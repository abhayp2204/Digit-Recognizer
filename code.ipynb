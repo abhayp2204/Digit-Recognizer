{
 "cells": [
  {
   "attachments": {},
   "cell_type": "markdown",
   "metadata": {},
   "source": [
    "# Digit Recognizer"
   ]
  },
  {
   "cell_type": "code",
   "execution_count": 65,
   "metadata": {},
   "outputs": [],
   "source": [
    "import numpy as np\n",
    "import pandas as pd\n",
    "import matplotlib.pyplot as plt\n",
    "import random\n",
    "import tensorflow as tf\n",
    "from tensorflow import keras\n",
    "from keras import layers as L"
   ]
  },
  {
   "attachments": {},
   "cell_type": "markdown",
   "metadata": {},
   "source": [
    "## Read the data"
   ]
  },
  {
   "cell_type": "code",
   "execution_count": 66,
   "metadata": {},
   "outputs": [],
   "source": [
    "train = pd.read_csv(\"./data/train.csv\")\n",
    "test = pd.read_csv(\"./data/test.csv\")\n",
    "sample = pd.read_csv(\"./data/sample_submission.csv\")"
   ]
  },
  {
   "cell_type": "code",
   "execution_count": 67,
   "metadata": {},
   "outputs": [
    {
     "data": {
      "text/html": [
       "<div>\n",
       "<style scoped>\n",
       "    .dataframe tbody tr th:only-of-type {\n",
       "        vertical-align: middle;\n",
       "    }\n",
       "\n",
       "    .dataframe tbody tr th {\n",
       "        vertical-align: top;\n",
       "    }\n",
       "\n",
       "    .dataframe thead th {\n",
       "        text-align: right;\n",
       "    }\n",
       "</style>\n",
       "<table border=\"1\" class=\"dataframe\">\n",
       "  <thead>\n",
       "    <tr style=\"text-align: right;\">\n",
       "      <th></th>\n",
       "      <th>label</th>\n",
       "      <th>pixel0</th>\n",
       "      <th>pixel1</th>\n",
       "      <th>pixel2</th>\n",
       "      <th>pixel3</th>\n",
       "      <th>pixel4</th>\n",
       "      <th>pixel5</th>\n",
       "      <th>pixel6</th>\n",
       "      <th>pixel7</th>\n",
       "      <th>pixel8</th>\n",
       "      <th>...</th>\n",
       "      <th>pixel774</th>\n",
       "      <th>pixel775</th>\n",
       "      <th>pixel776</th>\n",
       "      <th>pixel777</th>\n",
       "      <th>pixel778</th>\n",
       "      <th>pixel779</th>\n",
       "      <th>pixel780</th>\n",
       "      <th>pixel781</th>\n",
       "      <th>pixel782</th>\n",
       "      <th>pixel783</th>\n",
       "    </tr>\n",
       "  </thead>\n",
       "  <tbody>\n",
       "    <tr>\n",
       "      <th>0</th>\n",
       "      <td>1</td>\n",
       "      <td>0</td>\n",
       "      <td>0</td>\n",
       "      <td>0</td>\n",
       "      <td>0</td>\n",
       "      <td>0</td>\n",
       "      <td>0</td>\n",
       "      <td>0</td>\n",
       "      <td>0</td>\n",
       "      <td>0</td>\n",
       "      <td>...</td>\n",
       "      <td>0</td>\n",
       "      <td>0</td>\n",
       "      <td>0</td>\n",
       "      <td>0</td>\n",
       "      <td>0</td>\n",
       "      <td>0</td>\n",
       "      <td>0</td>\n",
       "      <td>0</td>\n",
       "      <td>0</td>\n",
       "      <td>0</td>\n",
       "    </tr>\n",
       "    <tr>\n",
       "      <th>1</th>\n",
       "      <td>0</td>\n",
       "      <td>0</td>\n",
       "      <td>0</td>\n",
       "      <td>0</td>\n",
       "      <td>0</td>\n",
       "      <td>0</td>\n",
       "      <td>0</td>\n",
       "      <td>0</td>\n",
       "      <td>0</td>\n",
       "      <td>0</td>\n",
       "      <td>...</td>\n",
       "      <td>0</td>\n",
       "      <td>0</td>\n",
       "      <td>0</td>\n",
       "      <td>0</td>\n",
       "      <td>0</td>\n",
       "      <td>0</td>\n",
       "      <td>0</td>\n",
       "      <td>0</td>\n",
       "      <td>0</td>\n",
       "      <td>0</td>\n",
       "    </tr>\n",
       "    <tr>\n",
       "      <th>2</th>\n",
       "      <td>1</td>\n",
       "      <td>0</td>\n",
       "      <td>0</td>\n",
       "      <td>0</td>\n",
       "      <td>0</td>\n",
       "      <td>0</td>\n",
       "      <td>0</td>\n",
       "      <td>0</td>\n",
       "      <td>0</td>\n",
       "      <td>0</td>\n",
       "      <td>...</td>\n",
       "      <td>0</td>\n",
       "      <td>0</td>\n",
       "      <td>0</td>\n",
       "      <td>0</td>\n",
       "      <td>0</td>\n",
       "      <td>0</td>\n",
       "      <td>0</td>\n",
       "      <td>0</td>\n",
       "      <td>0</td>\n",
       "      <td>0</td>\n",
       "    </tr>\n",
       "    <tr>\n",
       "      <th>3</th>\n",
       "      <td>4</td>\n",
       "      <td>0</td>\n",
       "      <td>0</td>\n",
       "      <td>0</td>\n",
       "      <td>0</td>\n",
       "      <td>0</td>\n",
       "      <td>0</td>\n",
       "      <td>0</td>\n",
       "      <td>0</td>\n",
       "      <td>0</td>\n",
       "      <td>...</td>\n",
       "      <td>0</td>\n",
       "      <td>0</td>\n",
       "      <td>0</td>\n",
       "      <td>0</td>\n",
       "      <td>0</td>\n",
       "      <td>0</td>\n",
       "      <td>0</td>\n",
       "      <td>0</td>\n",
       "      <td>0</td>\n",
       "      <td>0</td>\n",
       "    </tr>\n",
       "    <tr>\n",
       "      <th>4</th>\n",
       "      <td>0</td>\n",
       "      <td>0</td>\n",
       "      <td>0</td>\n",
       "      <td>0</td>\n",
       "      <td>0</td>\n",
       "      <td>0</td>\n",
       "      <td>0</td>\n",
       "      <td>0</td>\n",
       "      <td>0</td>\n",
       "      <td>0</td>\n",
       "      <td>...</td>\n",
       "      <td>0</td>\n",
       "      <td>0</td>\n",
       "      <td>0</td>\n",
       "      <td>0</td>\n",
       "      <td>0</td>\n",
       "      <td>0</td>\n",
       "      <td>0</td>\n",
       "      <td>0</td>\n",
       "      <td>0</td>\n",
       "      <td>0</td>\n",
       "    </tr>\n",
       "  </tbody>\n",
       "</table>\n",
       "<p>5 rows × 785 columns</p>\n",
       "</div>"
      ],
      "text/plain": [
       "   label  pixel0  pixel1  pixel2  pixel3  pixel4  pixel5  pixel6  pixel7  \\\n",
       "0      1       0       0       0       0       0       0       0       0   \n",
       "1      0       0       0       0       0       0       0       0       0   \n",
       "2      1       0       0       0       0       0       0       0       0   \n",
       "3      4       0       0       0       0       0       0       0       0   \n",
       "4      0       0       0       0       0       0       0       0       0   \n",
       "\n",
       "   pixel8  ...  pixel774  pixel775  pixel776  pixel777  pixel778  pixel779  \\\n",
       "0       0  ...         0         0         0         0         0         0   \n",
       "1       0  ...         0         0         0         0         0         0   \n",
       "2       0  ...         0         0         0         0         0         0   \n",
       "3       0  ...         0         0         0         0         0         0   \n",
       "4       0  ...         0         0         0         0         0         0   \n",
       "\n",
       "   pixel780  pixel781  pixel782  pixel783  \n",
       "0         0         0         0         0  \n",
       "1         0         0         0         0  \n",
       "2         0         0         0         0  \n",
       "3         0         0         0         0  \n",
       "4         0         0         0         0  \n",
       "\n",
       "[5 rows x 785 columns]"
      ]
     },
     "execution_count": 67,
     "metadata": {},
     "output_type": "execute_result"
    }
   ],
   "source": [
    "train.head()"
   ]
  },
  {
   "attachments": {},
   "cell_type": "markdown",
   "metadata": {},
   "source": [
    "## Transform the data"
   ]
  },
  {
   "cell_type": "code",
   "execution_count": 68,
   "metadata": {},
   "outputs": [],
   "source": [
    "x_train = train.drop(\"label\", axis=1).astype(\"float\").values.reshape(-1, 28, 28, 1)\n",
    "y_train = train.label.astype(\"float\")\n",
    "x_test = test.astype(\"float\").values.reshape(-1, 28, 28, 1)"
   ]
  },
  {
   "attachments": {},
   "cell_type": "markdown",
   "metadata": {},
   "source": [
    "## Shape of the data"
   ]
  },
  {
   "cell_type": "code",
   "execution_count": 69,
   "metadata": {},
   "outputs": [
    {
     "name": "stdout",
     "output_type": "stream",
     "text": [
      "Shapes\n",
      "x_train : (42000, 28, 28, 1)\n",
      "x_test : (28000, 28, 28, 1)\n",
      "y_train : (42000,)\n"
     ]
    }
   ],
   "source": [
    "print(\"Shapes\")\n",
    "print(\"x_train :\", x_train.shape)\n",
    "print(\"x_test :\", x_test.shape)\n",
    "print(\"y_train :\", y_train.shape)"
   ]
  },
  {
   "attachments": {},
   "cell_type": "markdown",
   "metadata": {},
   "source": [
    "## One Hot Encoding"
   ]
  },
  {
   "cell_type": "code",
   "execution_count": 70,
   "metadata": {},
   "outputs": [
    {
     "name": "stdout",
     "output_type": "stream",
     "text": [
      "Shape before one hot encoding :  (42000,)\n",
      "0    1.0\n",
      "1    0.0\n",
      "2    1.0\n",
      "3    4.0\n",
      "4    0.0\n",
      "Name: label, dtype: float64\n",
      "\n",
      "Shape after one hot encoding  : (42000, 10)\n",
      "[[0. 1. 0. 0. 0. 0. 0. 0. 0. 0.]\n",
      " [1. 0. 0. 0. 0. 0. 0. 0. 0. 0.]\n",
      " [0. 1. 0. 0. 0. 0. 0. 0. 0. 0.]\n",
      " [0. 0. 0. 0. 1. 0. 0. 0. 0. 0.]\n",
      " [1. 0. 0. 0. 0. 0. 0. 0. 0. 0.]]\n"
     ]
    }
   ],
   "source": [
    "print(\"Shape before one hot encoding : \", y_train.shape)\n",
    "print(y_train[:5])\n",
    "print()\n",
    "y_train_ohe = tf.keras.utils.to_categorical(y_train, 10)\n",
    "print(\"Shape after one hot encoding  :\", y_train_ohe.shape)\n",
    "print(y_train_ohe[:5])"
   ]
  },
  {
   "attachments": {},
   "cell_type": "markdown",
   "metadata": {},
   "source": [
    "## See what the images look like"
   ]
  },
  {
   "cell_type": "code",
   "execution_count": 71,
   "metadata": {},
   "outputs": [
    {
     "data": {
      "image/png": "[encoded data removed]",
      "text/plain": [
       "<Figure size 640x480 with 10 Axes>"
      ]
     },
     "metadata": {},
     "output_type": "display_data"
    }
   ],
   "source": [
    "def show_images(index):\n",
    "    for i in range(0, 10):\n",
    "        plt.subplot(2, 5, i + 1)\n",
    "        plt.subplots_adjust(right=1.8, top=1.2)\n",
    "\n",
    "        k = (index + i) % len(x_train)\n",
    "        plt.imshow(x_train[k])\n",
    "        plt.title(y_train[k])\n",
    "\n",
    "def show_test_images(index, numbers):\n",
    "    for i in range(0, 10):\n",
    "        plt.subplot(2, 5, i + 1)\n",
    "        plt.subplots_adjust(right=1.8, top=1.2)\n",
    "\n",
    "        k = (index + i) % len(x_test)\n",
    "        plt.title(numbers[k])\n",
    "        plt.imshow(x_test[k])\n",
    "\n",
    "show_images(0)"
   ]
  },
  {
   "attachments": {},
   "cell_type": "markdown",
   "metadata": {},
   "source": [
    "## Model Definition"
   ]
  },
  {
   "cell_type": "code",
   "execution_count": 72,
   "metadata": {},
   "outputs": [],
   "source": [
    "model = tf.keras.models.Sequential([\n",
    "    L.Conv2D(filters=32, kernel_size=(3, 3), activation=\"relu\", input_shape=x_train.shape[1:]),\n",
    "    L.Conv2D(filters=32, kernel_size=(3, 3), activation=\"relu\"),\n",
    "    # L.MaxPooling2D(pool_size=2, strides=2),\n",
    "\n",
    "    L.Conv2D(filters=64, kernel_size=(3, 3), activation=\"relu\", padding=\"Same\"),\n",
    "    L.Conv2D(filters=64, kernel_size=(3, 3), activation=\"relu\", padding=\"Same\"),\n",
    "    # L.MaxPooling2D(pool_size=(2, 2), strides=(2, 2)),\n",
    "    # L.Dropout(0.25),\n",
    "\n",
    "    L.Conv2D(filters=64, kernel_size=(3, 3), activation=\"relu\", padding=\"Same\"),\n",
    "    L.Conv2D(filters=64, kernel_size=(3, 3), activation=\"relu\", padding=\"Same\"),\n",
    "    L.MaxPooling2D(pool_size=(2, 2), strides=(2, 2)),\n",
    "    # L.Dropout(0.25),\n",
    "    \n",
    "    L.Flatten(),\n",
    "    L.Dense(256, activation=\"relu\"),\n",
    "    L.Dense(256, activation=\"relu\"),\n",
    "    # L.Dropout(0.5),\n",
    "    \n",
    "    L.Dense(10, activation=\"softmax\")\n",
    "])"
   ]
  },
  {
   "cell_type": "code",
   "execution_count": 73,
   "metadata": {},
   "outputs": [
    {
     "name": "stdout",
     "output_type": "stream",
     "text": [
      "Model: \"sequential\"\n",
      "_________________________________________________________________\n",
      " Layer (type)                Output Shape              Param #   \n",
      "=================================================================\n",
      " conv2d (Conv2D)             (None, 26, 26, 32)        320       \n",
      "                                                                 \n",
      " conv2d_1 (Conv2D)           (None, 24, 24, 32)        9248      \n",
      "                                                                 \n",
      " conv2d_2 (Conv2D)           (None, 24, 24, 64)        18496     \n",
      "                                                                 \n",
      " conv2d_3 (Conv2D)           (None, 24, 24, 64)        36928     \n",
      "                                                                 \n",
      " conv2d_4 (Conv2D)           (None, 24, 24, 64)        36928     \n",
      "                                                                 \n",
      " conv2d_5 (Conv2D)           (None, 24, 24, 64)        36928     \n",
      "                                                                 \n",
      " max_pooling2d (MaxPooling2D  (None, 12, 12, 64)       0         \n",
      " )                                                               \n",
      "                                                                 \n",
      " flatten (Flatten)           (None, 9216)              0         \n",
      "                                                                 \n",
      " dense (Dense)               (None, 256)               2359552   \n",
      "                                                                 \n",
      " dense_1 (Dense)             (None, 256)               65792     \n",
      "                                                                 \n",
      " dense_2 (Dense)             (None, 10)                2570      \n",
      "                                                                 \n",
      "=================================================================\n",
      "Total params: 2,566,762\n",
      "Trainable params: 2,566,762\n",
      "Non-trainable params: 0\n",
      "_________________________________________________________________\n"
     ]
    }
   ],
   "source": [
    "model.summary()"
   ]
  },
  {
   "cell_type": "code",
   "execution_count": 74,
   "metadata": {},
   "outputs": [],
   "source": [
    "class MyCallback(tf.keras.callbacks.Callback):\n",
    "    def on_epoch_end(self, epoch, logs={}):\n",
    "        if logs.get(\"accuracy\") > 0.999:\n",
    "            print(\"Reached 99.9% accuracy - Stopped training!\")\n",
    "            self.model.stop_training = True\n",
    "\n",
    "callback = MyCallback()"
   ]
  },
  {
   "cell_type": "code",
   "execution_count": 77,
   "metadata": {},
   "outputs": [],
   "source": [
    "Optimizer = tf.keras.optimizers.Adam(learning_rate=0.0005, name=\"Adam\")\n",
    "model.compile(optimizer=Optimizer, loss=\"categorical_crossentropy\", metrics=[\"accuracy\"])"
   ]
  },
  {
   "cell_type": "code",
   "execution_count": 78,
   "metadata": {},
   "outputs": [
    {
     "name": "stdout",
     "output_type": "stream",
     "text": [
      "Epoch 1/20\n",
      "420/420 [==============================] - 254s 602ms/step - loss: 0.2578 - accuracy: 0.9342\n",
      "Epoch 2/20\n",
      "420/420 [==============================] - 256s 611ms/step - loss: 0.0457 - accuracy: 0.9858\n",
      "Epoch 3/20\n",
      "420/420 [==============================] - 250s 595ms/step - loss: 0.0296 - accuracy: 0.9911\n",
      "Epoch 4/20\n",
      "420/420 [==============================] - 241s 573ms/step - loss: 0.0199 - accuracy: 0.9935\n",
      "Epoch 5/20\n",
      "420/420 [==============================] - 2526s 6s/step - loss: 0.0199 - accuracy: 0.9934\n",
      "Epoch 6/20\n",
      "420/420 [==============================] - 237s 565ms/step - loss: 0.0164 - accuracy: 0.9945\n",
      "Epoch 7/20\n",
      "420/420 [==============================] - 239s 570ms/step - loss: 0.0130 - accuracy: 0.9959\n",
      "Epoch 8/20\n",
      "420/420 [==============================] - 236s 563ms/step - loss: 0.0119 - accuracy: 0.9961\n",
      "Epoch 9/20\n",
      "420/420 [==============================] - 235s 560ms/step - loss: 0.0103 - accuracy: 0.9964\n",
      "Epoch 10/20\n",
      "420/420 [==============================] - 235s 559ms/step - loss: 0.0111 - accuracy: 0.9963\n",
      "Epoch 11/20\n",
      "420/420 [==============================] - 236s 562ms/step - loss: 0.0094 - accuracy: 0.9973\n",
      "Epoch 12/20\n",
      "420/420 [==============================] - 239s 568ms/step - loss: 0.0082 - accuracy: 0.9972\n",
      "Epoch 13/20\n",
      "420/420 [==============================] - 235s 560ms/step - loss: 0.0076 - accuracy: 0.9978\n",
      "Epoch 14/20\n",
      "420/420 [==============================] - 239s 570ms/step - loss: 0.0082 - accuracy: 0.9973\n",
      "Epoch 15/20\n",
      "420/420 [==============================] - 244s 582ms/step - loss: 0.0059 - accuracy: 0.9982\n",
      "Epoch 16/20\n",
      "420/420 [==============================] - 237s 565ms/step - loss: 0.0046 - accuracy: 0.9984\n",
      "Epoch 17/20\n",
      "420/420 [==============================] - 235s 560ms/step - loss: 0.0059 - accuracy: 0.9982\n",
      "Epoch 18/20\n",
      "420/420 [==============================] - 237s 565ms/step - loss: 0.0053 - accuracy: 0.9983\n",
      "Epoch 19/20\n",
      "420/420 [==============================] - 242s 576ms/step - loss: 0.0058 - accuracy: 0.9985\n",
      "Epoch 20/20\n",
      "420/420 [==============================] - 227s 541ms/step - loss: 0.0060 - accuracy: 0.9983\n"
     ]
    },
    {
     "data": {
      "text/plain": [
       "<keras.callbacks.History at 0x1e0275ab250>"
      ]
     },
     "execution_count": 78,
     "metadata": {},
     "output_type": "execute_result"
    }
   ],
   "source": [
    "model.fit(x_train, y_train_ohe, batch_size=100, epochs=20, callbacks=[callback])"
   ]
  },
  {
   "cell_type": "code",
   "execution_count": 79,
   "metadata": {},
   "outputs": [],
   "source": [
    "model.save(\"model.h5\")"
   ]
  },
  {
   "attachments": {},
   "cell_type": "markdown",
   "metadata": {},
   "source": [
    "## Get the predicted numbers"
   ]
  },
  {
   "cell_type": "code",
   "execution_count": 80,
   "metadata": {},
   "outputs": [
    {
     "name": "stdout",
     "output_type": "stream",
     "text": [
      "875/875 [==============================] - 21s 24ms/step\n"
     ]
    }
   ],
   "source": [
    "model = tf.keras.models.load_model(\"model.h5\")\n",
    "Optimizer = tf.keras.optimizers.Adam(learning_rate=0.0005, name=\"Adam\")\n",
    "model.compile(optimizer=Optimizer, loss=\"categorical_crossentropy\", metrics=[\"accuracy\"])\n",
    "\n",
    "results = model.predict(x_test)"
   ]
  },
  {
   "cell_type": "code",
   "execution_count": 81,
   "metadata": {},
   "outputs": [
    {
     "data": {
      "text/plain": [
       "array([2, 0, 9, 9, 3], dtype=int64)"
      ]
     },
     "execution_count": 81,
     "metadata": {},
     "output_type": "execute_result"
    }
   ],
   "source": [
    "numbers = np.argmax(results, axis=1)\n",
    "numbers[:5]"
   ]
  },
  {
   "attachments": {},
   "cell_type": "markdown",
   "metadata": {},
   "source": [
    "## Check the performance of the model"
   ]
  },
  {
   "cell_type": "code",
   "execution_count": 82,
   "metadata": {},
   "outputs": [
    {
     "data": {
      "image/png": "[encoded data removed]",
      "text/plain": [
       "<Figure size 640x480 with 10 Axes>"
      ]
     },
     "metadata": {},
     "output_type": "display_data"
    }
   ],
   "source": [
    "show_test_images(0, numbers)"
   ]
  },
  {
   "cell_type": "code",
   "execution_count": 92,
   "metadata": {},
   "outputs": [
    {
     "data": {
      "text/plain": [
       "array([[3.7141008e-17, 1.3636350e-15, 1.0000000e+00, 1.2991649e-13,\n",
       "        1.2552389e-14, 4.5353734e-19, 3.0532004e-18, 3.5851874e-13,\n",
       "        2.1899190e-12, 9.3375331e-17],\n",
       "       [1.0000000e+00, 3.1905533e-15, 7.2275470e-11, 3.9983254e-15,\n",
       "        3.6706011e-12, 2.9037597e-10, 6.9193908e-12, 4.9252345e-11,\n",
       "        4.9510351e-10, 1.3043058e-11],\n",
       "       [2.7017832e-14, 2.0275766e-13, 8.1996302e-12, 2.9702245e-16,\n",
       "        1.5866534e-09, 4.1940921e-16, 2.3260780e-17, 4.7186600e-15,\n",
       "        2.5281224e-07, 9.9999976e-01],\n",
       "       [5.7404391e-02, 1.9329666e-11, 5.7690340e-07, 2.4375787e-10,\n",
       "        1.0147576e-05, 3.3772437e-08, 2.3572047e-09, 3.7728860e-05,\n",
       "        3.2022845e-07, 9.4254678e-01],\n",
       "       [7.5180319e-13, 4.1945775e-10, 1.7517389e-09, 9.9998081e-01,\n",
       "        7.6983029e-12, 8.4317130e-11, 3.6129248e-14, 1.6935572e-10,\n",
       "        1.9178364e-05, 9.7762354e-12]], dtype=float32)"
      ]
     },
     "execution_count": 92,
     "metadata": {},
     "output_type": "execute_result"
    }
   ],
   "source": [
    "results[:5]"
   ]
  },
  {
   "cell_type": "code",
   "execution_count": 94,
   "metadata": {},
   "outputs": [],
   "source": [
    "confused_data = []\n",
    "\n",
    "for i, probs in enumerate(results):\n",
    "    lot = [(n, p) for n, p in enumerate(probs) if p > 0.1]\n",
    "    if len(lot) > 1:\n",
    "        confused_data.append((i, (dict((x, y) for x, y in lot))))"
   ]
  },
  {
   "cell_type": "code",
   "execution_count": 95,
   "metadata": {},
   "outputs": [
    {
     "name": "stdout",
     "output_type": "stream",
     "text": [
      "313\n"
     ]
    },
    {
     "data": {
      "text/plain": [
       "[(94, {0: 0.19491312, 1: 0.77294254}),\n",
       " (128, {7: 0.79418075, 8: 0.20335534}),\n",
       " (275, {3: 0.5120335, 5: 0.45471808}),\n",
       " (409, {5: 0.7941549, 6: 0.20581442}),\n",
       " (450, {5: 0.39283255, 9: 0.6071546})]"
      ]
     },
     "execution_count": 95,
     "metadata": {},
     "output_type": "execute_result"
    }
   ],
   "source": [
    "print(len(confused_data))\n",
    "confused_data[:5]"
   ]
  },
  {
   "cell_type": "code",
   "execution_count": 101,
   "metadata": {},
   "outputs": [
    {
     "name": "stdout",
     "output_type": "stream",
     "text": [
      "[40, 45, 298, 43, 80, 180, 286, 144, 127, 303]\n",
      "--------------------------------------------------------------------\n"
     ]
    },
    {
     "data": {
      "image/png": "[encoded data removed]",
      "text/plain": [
       "<Figure size 640x480 with 1 Axes>"
      ]
     },
     "metadata": {},
     "output_type": "display_data"
    },
    {
     "name": "stdout",
     "output_type": "stream",
     "text": [
      "Number =  3\n",
      "Probability =  0.16340536\n",
      "\n",
      "Number =  5\n",
      "Probability =  0.8348994\n",
      "\n",
      "--------------------------------------------------------------------\n",
      "--------------------------------------------------------------------\n"
     ]
    },
    {
     "data": {
      "image/png": "[encoded data removed]",
      "text/plain": [
       "<Figure size 640x480 with 1 Axes>"
      ]
     },
     "metadata": {},
     "output_type": "display_data"
    },
    {
     "name": "stdout",
     "output_type": "stream",
     "text": [
      "Number =  0\n",
      "Probability =  0.14266695\n",
      "\n",
      "Number =  8\n",
      "Probability =  0.78786\n",
      "\n",
      "--------------------------------------------------------------------\n",
      "--------------------------------------------------------------------\n"
     ]
    },
    {
     "data": {
      "image/png": "[encoded data removed]",
      "text/plain": [
       "<Figure size 640x480 with 1 Axes>"
      ]
     },
     "metadata": {},
     "output_type": "display_data"
    },
    {
     "name": "stdout",
     "output_type": "stream",
     "text": [
      "Number =  2\n",
      "Probability =  0.8932843\n",
      "\n",
      "Number =  8\n",
      "Probability =  0.10662952\n",
      "\n",
      "--------------------------------------------------------------------\n",
      "--------------------------------------------------------------------\n"
     ]
    },
    {
     "data": {
      "image/png": "[encoded data removed]",
      "text/plain": [
       "<Figure size 640x480 with 1 Axes>"
      ]
     },
     "metadata": {},
     "output_type": "display_data"
    },
    {
     "name": "stdout",
     "output_type": "stream",
     "text": [
      "Number =  2\n",
      "Probability =  0.22350563\n",
      "\n",
      "Number =  7\n",
      "Probability =  0.77648914\n",
      "\n",
      "--------------------------------------------------------------------\n",
      "--------------------------------------------------------------------\n"
     ]
    },
    {
     "data": {
      "image/png": "[encoded data removed]",
      "text/plain": [
       "<Figure size 640x480 with 1 Axes>"
      ]
     },
     "metadata": {},
     "output_type": "display_data"
    },
    {
     "name": "stdout",
     "output_type": "stream",
     "text": [
      "Number =  3\n",
      "Probability =  0.283392\n",
      "\n",
      "Number =  8\n",
      "Probability =  0.7107583\n",
      "\n",
      "--------------------------------------------------------------------\n",
      "--------------------------------------------------------------------\n"
     ]
    },
    {
     "data": {
      "image/png": "[encoded data removed]",
      "text/plain": [
       "<Figure size 640x480 with 1 Axes>"
      ]
     },
     "metadata": {},
     "output_type": "display_data"
    },
    {
     "name": "stdout",
     "output_type": "stream",
     "text": [
      "Number =  8\n",
      "Probability =  0.25339735\n",
      "\n",
      "Number =  9\n",
      "Probability =  0.6699484\n",
      "\n",
      "--------------------------------------------------------------------\n",
      "--------------------------------------------------------------------\n"
     ]
    },
    {
     "data": {
      "image/png": "[encoded data removed]",
      "text/plain": [
       "<Figure size 640x480 with 1 Axes>"
      ]
     },
     "metadata": {},
     "output_type": "display_data"
    },
    {
     "name": "stdout",
     "output_type": "stream",
     "text": [
      "Number =  4\n",
      "Probability =  0.16001557\n",
      "\n",
      "Number =  6\n",
      "Probability =  0.83990777\n",
      "\n",
      "--------------------------------------------------------------------\n",
      "--------------------------------------------------------------------\n"
     ]
    },
    {
     "data": {
      "image/png": "[encoded data removed]",
      "text/plain": [
       "<Figure size 640x480 with 1 Axes>"
      ]
     },
     "metadata": {},
     "output_type": "display_data"
    },
    {
     "name": "stdout",
     "output_type": "stream",
     "text": [
      "Number =  5\n",
      "Probability =  0.8658193\n",
      "\n",
      "Number =  6\n",
      "Probability =  0.13386936\n",
      "\n",
      "--------------------------------------------------------------------\n",
      "--------------------------------------------------------------------\n"
     ]
    },
    {
     "data": {
      "image/png": "[encoded data removed]",
      "text/plain": [
       "<Figure size 640x480 with 1 Axes>"
      ]
     },
     "metadata": {},
     "output_type": "display_data"
    },
    {
     "name": "stdout",
     "output_type": "stream",
     "text": [
      "Number =  4\n",
      "Probability =  0.15249816\n",
      "\n",
      "Number =  9\n",
      "Probability =  0.8474888\n",
      "\n",
      "--------------------------------------------------------------------\n",
      "--------------------------------------------------------------------\n"
     ]
    },
    {
     "data": {
      "image/png": "[encoded data removed]",
      "text/plain": [
       "<Figure size 640x480 with 1 Axes>"
      ]
     },
     "metadata": {},
     "output_type": "display_data"
    },
    {
     "name": "stdout",
     "output_type": "stream",
     "text": [
      "Number =  1\n",
      "Probability =  0.22144198\n",
      "\n",
      "Number =  7\n",
      "Probability =  0.77840084\n",
      "\n",
      "--------------------------------------------------------------------\n"
     ]
    }
   ],
   "source": [
    "def show_confusion(k):\n",
    "    samples = random.sample(range(0, len(confused_data)), k)\n",
    "    print(samples)\n",
    "\n",
    "    for i in samples:\n",
    "        print(\"--------------------------------------------------------------------\")\n",
    "        tpl = confused_data[i]\n",
    "        index = tpl[0]\n",
    "        dct = tpl[1]\n",
    "\n",
    "        plt.imshow(x_test[index])\n",
    "        plt.show()\n",
    "\n",
    "        for k, v in dct.items():\n",
    "            print(\"Number = \", k)\n",
    "            print(\"Probability = \", v)\n",
    "            print()\n",
    "        print(\"--------------------------------------------------------------------\")\n",
    "        \n",
    "show_confusion(10)"
   ]
  },
  {
   "attachments": {},
   "cell_type": "markdown",
   "metadata": {},
   "source": [
    "## Submission"
   ]
  },
  {
   "cell_type": "code",
   "execution_count": 102,
   "metadata": {},
   "outputs": [],
   "source": [
    "submission = pd.concat([pd.Series(range(1, len(sample) + 1), name=\"ImageId\"), pd.Series(numbers, name=\"Label\")], axis=1)\n",
    "submission.to_csv(\"submission.csv\", index=False)"
   ]
  }
 ],
 "metadata": {
  "kernelspec": {
   "display_name": "Python 3",
   "language": "python",
   "name": "python3"
  },
  "language_info": {
   "codemirror_mode": {
    "name": "ipython",
    "version": 3
   },
   "file_extension": ".py",
   "mimetype": "text/x-python",
   "name": "python",
   "nbconvert_exporter": "python",
   "pygments_lexer": "ipython3",
   "version": "3.10.8"
  },
  "orig_nbformat": 4,
  "vscode": {
   "interpreter": {
    "hash": "94f4693ad758032fd28f9ecc08daa4776caeeaf7af79843cea3e1525fe817927"
   }
  }
 },
 "nbformat": 4,
 "nbformat_minor": 2
}
