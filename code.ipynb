{
 "cells": [
  {
   "attachments": {},
   "cell_type": "markdown",
   "metadata": {},
   "source": [
    "# Digit Recognizer"
   ]
  },
  {
   "cell_type": "code",
   "execution_count": 3,
   "metadata": {},
   "outputs": [],
   "source": [
    "import numpy as np\n",
    "import pandas as pd\n",
    "import matplotlib.pyplot as plt\n",
    "import tensorflow as tf\n",
    "from tensorflow import keras\n",
    "from keras import layers as L"
   ]
  },
  {
   "attachments": {},
   "cell_type": "markdown",
   "metadata": {},
   "source": [
    "## Read the data"
   ]
  },
  {
   "cell_type": "code",
   "execution_count": 4,
   "metadata": {},
   "outputs": [],
   "source": [
    "train = pd.read_csv(\"./data/train.csv\")\n",
    "test = pd.read_csv(\"./data/test.csv\")\n",
    "sample = pd.read_csv(\"./data/sample_submission.csv\")"
   ]
  },
  {
   "cell_type": "code",
   "execution_count": 5,
   "metadata": {},
   "outputs": [
    {
     "data": {
      "text/html": [
       "<div>\n",
       "<style scoped>\n",
       "    .dataframe tbody tr th:only-of-type {\n",
       "        vertical-align: middle;\n",
       "    }\n",
       "\n",
       "    .dataframe tbody tr th {\n",
       "        vertical-align: top;\n",
       "    }\n",
       "\n",
       "    .dataframe thead th {\n",
       "        text-align: right;\n",
       "    }\n",
       "</style>\n",
       "<table border=\"1\" class=\"dataframe\">\n",
       "  <thead>\n",
       "    <tr style=\"text-align: right;\">\n",
       "      <th></th>\n",
       "      <th>label</th>\n",
       "      <th>pixel0</th>\n",
       "      <th>pixel1</th>\n",
       "      <th>pixel2</th>\n",
       "      <th>pixel3</th>\n",
       "      <th>pixel4</th>\n",
       "      <th>pixel5</th>\n",
       "      <th>pixel6</th>\n",
       "      <th>pixel7</th>\n",
       "      <th>pixel8</th>\n",
       "      <th>...</th>\n",
       "      <th>pixel774</th>\n",
       "      <th>pixel775</th>\n",
       "      <th>pixel776</th>\n",
       "      <th>pixel777</th>\n",
       "      <th>pixel778</th>\n",
       "      <th>pixel779</th>\n",
       "      <th>pixel780</th>\n",
       "      <th>pixel781</th>\n",
       "      <th>pixel782</th>\n",
       "      <th>pixel783</th>\n",
       "    </tr>\n",
       "  </thead>\n",
       "  <tbody>\n",
       "    <tr>\n",
       "      <th>0</th>\n",
       "      <td>1</td>\n",
       "      <td>0</td>\n",
       "      <td>0</td>\n",
       "      <td>0</td>\n",
       "      <td>0</td>\n",
       "      <td>0</td>\n",
       "      <td>0</td>\n",
       "      <td>0</td>\n",
       "      <td>0</td>\n",
       "      <td>0</td>\n",
       "      <td>...</td>\n",
       "      <td>0</td>\n",
       "      <td>0</td>\n",
       "      <td>0</td>\n",
       "      <td>0</td>\n",
       "      <td>0</td>\n",
       "      <td>0</td>\n",
       "      <td>0</td>\n",
       "      <td>0</td>\n",
       "      <td>0</td>\n",
       "      <td>0</td>\n",
       "    </tr>\n",
       "    <tr>\n",
       "      <th>1</th>\n",
       "      <td>0</td>\n",
       "      <td>0</td>\n",
       "      <td>0</td>\n",
       "      <td>0</td>\n",
       "      <td>0</td>\n",
       "      <td>0</td>\n",
       "      <td>0</td>\n",
       "      <td>0</td>\n",
       "      <td>0</td>\n",
       "      <td>0</td>\n",
       "      <td>...</td>\n",
       "      <td>0</td>\n",
       "      <td>0</td>\n",
       "      <td>0</td>\n",
       "      <td>0</td>\n",
       "      <td>0</td>\n",
       "      <td>0</td>\n",
       "      <td>0</td>\n",
       "      <td>0</td>\n",
       "      <td>0</td>\n",
       "      <td>0</td>\n",
       "    </tr>\n",
       "    <tr>\n",
       "      <th>2</th>\n",
       "      <td>1</td>\n",
       "      <td>0</td>\n",
       "      <td>0</td>\n",
       "      <td>0</td>\n",
       "      <td>0</td>\n",
       "      <td>0</td>\n",
       "      <td>0</td>\n",
       "      <td>0</td>\n",
       "      <td>0</td>\n",
       "      <td>0</td>\n",
       "      <td>...</td>\n",
       "      <td>0</td>\n",
       "      <td>0</td>\n",
       "      <td>0</td>\n",
       "      <td>0</td>\n",
       "      <td>0</td>\n",
       "      <td>0</td>\n",
       "      <td>0</td>\n",
       "      <td>0</td>\n",
       "      <td>0</td>\n",
       "      <td>0</td>\n",
       "    </tr>\n",
       "    <tr>\n",
       "      <th>3</th>\n",
       "      <td>4</td>\n",
       "      <td>0</td>\n",
       "      <td>0</td>\n",
       "      <td>0</td>\n",
       "      <td>0</td>\n",
       "      <td>0</td>\n",
       "      <td>0</td>\n",
       "      <td>0</td>\n",
       "      <td>0</td>\n",
       "      <td>0</td>\n",
       "      <td>...</td>\n",
       "      <td>0</td>\n",
       "      <td>0</td>\n",
       "      <td>0</td>\n",
       "      <td>0</td>\n",
       "      <td>0</td>\n",
       "      <td>0</td>\n",
       "      <td>0</td>\n",
       "      <td>0</td>\n",
       "      <td>0</td>\n",
       "      <td>0</td>\n",
       "    </tr>\n",
       "    <tr>\n",
       "      <th>4</th>\n",
       "      <td>0</td>\n",
       "      <td>0</td>\n",
       "      <td>0</td>\n",
       "      <td>0</td>\n",
       "      <td>0</td>\n",
       "      <td>0</td>\n",
       "      <td>0</td>\n",
       "      <td>0</td>\n",
       "      <td>0</td>\n",
       "      <td>0</td>\n",
       "      <td>...</td>\n",
       "      <td>0</td>\n",
       "      <td>0</td>\n",
       "      <td>0</td>\n",
       "      <td>0</td>\n",
       "      <td>0</td>\n",
       "      <td>0</td>\n",
       "      <td>0</td>\n",
       "      <td>0</td>\n",
       "      <td>0</td>\n",
       "      <td>0</td>\n",
       "    </tr>\n",
       "  </tbody>\n",
       "</table>\n",
       "<p>5 rows × 785 columns</p>\n",
       "</div>"
      ],
      "text/plain": [
       "   label  pixel0  pixel1  pixel2  pixel3  pixel4  pixel5  pixel6  pixel7  \\\n",
       "0      1       0       0       0       0       0       0       0       0   \n",
       "1      0       0       0       0       0       0       0       0       0   \n",
       "2      1       0       0       0       0       0       0       0       0   \n",
       "3      4       0       0       0       0       0       0       0       0   \n",
       "4      0       0       0       0       0       0       0       0       0   \n",
       "\n",
       "   pixel8  ...  pixel774  pixel775  pixel776  pixel777  pixel778  pixel779  \\\n",
       "0       0  ...         0         0         0         0         0         0   \n",
       "1       0  ...         0         0         0         0         0         0   \n",
       "2       0  ...         0         0         0         0         0         0   \n",
       "3       0  ...         0         0         0         0         0         0   \n",
       "4       0  ...         0         0         0         0         0         0   \n",
       "\n",
       "   pixel780  pixel781  pixel782  pixel783  \n",
       "0         0         0         0         0  \n",
       "1         0         0         0         0  \n",
       "2         0         0         0         0  \n",
       "3         0         0         0         0  \n",
       "4         0         0         0         0  \n",
       "\n",
       "[5 rows x 785 columns]"
      ]
     },
     "execution_count": 5,
     "metadata": {},
     "output_type": "execute_result"
    }
   ],
   "source": [
    "train.head()"
   ]
  },
  {
   "attachments": {},
   "cell_type": "markdown",
   "metadata": {},
   "source": [
    "## Transform the data"
   ]
  },
  {
   "cell_type": "code",
   "execution_count": 6,
   "metadata": {},
   "outputs": [],
   "source": [
    "x_train = train.drop(\"label\", axis=1).astype(\"float\").values.reshape(-1, 28, 28, 1)\n",
    "y_train = train.label.astype(\"float\")\n",
    "x_test = test.astype(\"float\").values.reshape(-1, 28, 28, 1)"
   ]
  },
  {
   "attachments": {},
   "cell_type": "markdown",
   "metadata": {},
   "source": [
    "## Shape of the data"
   ]
  },
  {
   "cell_type": "code",
   "execution_count": 7,
   "metadata": {},
   "outputs": [
    {
     "name": "stdout",
     "output_type": "stream",
     "text": [
      "Shapes\n",
      "x_train : (42000, 28, 28, 1)\n",
      "x_test : (28000, 28, 28, 1)\n",
      "y_train : (42000,)\n"
     ]
    }
   ],
   "source": [
    "print(\"Shapes\")\n",
    "print(\"x_train :\", x_train.shape)\n",
    "print(\"x_test :\", x_test.shape)\n",
    "print(\"y_train :\", y_train.shape)"
   ]
  },
  {
   "attachments": {},
   "cell_type": "markdown",
   "metadata": {},
   "source": [
    "## One Hot Encoding"
   ]
  },
  {
   "cell_type": "code",
   "execution_count": 8,
   "metadata": {},
   "outputs": [
    {
     "name": "stdout",
     "output_type": "stream",
     "text": [
      "Shape before one hot encoding :  (42000,)\n",
      "0    1.0\n",
      "1    0.0\n",
      "2    1.0\n",
      "3    4.0\n",
      "4    0.0\n",
      "Name: label, dtype: float64\n",
      "\n",
      "Shape after one hot encoding  : (42000, 10)\n",
      "[[0. 1. 0. 0. 0. 0. 0. 0. 0. 0.]\n",
      " [1. 0. 0. 0. 0. 0. 0. 0. 0. 0.]\n",
      " [0. 1. 0. 0. 0. 0. 0. 0. 0. 0.]\n",
      " [0. 0. 0. 0. 1. 0. 0. 0. 0. 0.]\n",
      " [1. 0. 0. 0. 0. 0. 0. 0. 0. 0.]]\n"
     ]
    }
   ],
   "source": [
    "print(\"Shape before one hot encoding : \", y_train.shape)\n",
    "print(y_train[:5])\n",
    "print()\n",
    "y_train_ohe = tf.keras.utils.to_categorical(y_train, 10)\n",
    "print(\"Shape after one hot encoding  :\", y_train_ohe.shape)\n",
    "print(y_train_ohe[:5])"
   ]
  },
  {
   "attachments": {},
   "cell_type": "markdown",
   "metadata": {},
   "source": [
    "## See what the images look like"
   ]
  },
  {
   "cell_type": "code",
   "execution_count": 35,
   "metadata": {},
   "outputs": [
    {
     "data": {
      "image/png": "[encoded data removed]",
      "text/plain": [
       "<Figure size 640x480 with 10 Axes>"
      ]
     },
     "metadata": {},
     "output_type": "display_data"
    }
   ],
   "source": [
    "def show_images(index):\n",
    "    for i in range(0, 10):\n",
    "        plt.subplot(2, 5, i + 1)\n",
    "        plt.subplots_adjust(right=1.8, top=1.2)\n",
    "\n",
    "        k = (index + i) % len(x_train)\n",
    "        plt.imshow(x_train[k])\n",
    "        plt.title(y_train[k])\n",
    "\n",
    "def show_test_images(index, numbers):\n",
    "    for i in range(0, 10):\n",
    "        plt.subplot(2, 5, i + 1)\n",
    "        plt.subplots_adjust(right=1.8, top=1.2)\n",
    "\n",
    "        k = (index + i) % len(x_test)\n",
    "        plt.title(numbers[k])\n",
    "        plt.imshow(x_test[k])\n",
    "\n",
    "show_images(0)"
   ]
  },
  {
   "attachments": {},
   "cell_type": "markdown",
   "metadata": {},
   "source": [
    "## Model Definition"
   ]
  },
  {
   "cell_type": "code",
   "execution_count": 24,
   "metadata": {},
   "outputs": [],
   "source": [
    "model = tf.keras.models.Sequential([\n",
    "    L.Conv2D(filters=32, kernel_size=(3, 3), activation=\"relu\", input_shape=x_train.shape[1:]),\n",
    "    L.Conv2D(filters=32, kernel_size=(3, 3), activation=\"relu\"),\n",
    "    L.MaxPooling2D(pool_size=2, strides=2),\n",
    "\n",
    "    L.Conv2D(filters=64, kernel_size=(3, 3), activation=\"relu\", padding=\"Same\"),\n",
    "    L.Conv2D(filters=64, kernel_size=(3, 3), activation=\"relu\", padding=\"Same\"),\n",
    "    L.MaxPooling2D(pool_size=(2, 2), strides=(2, 2)),\n",
    "    L.Dropout(0.25),\n",
    "\n",
    "    L.Conv2D(filters=64, kernel_size=(3, 3), activation=\"relu\", padding=\"Same\"),\n",
    "    L.Conv2D(filters=64, kernel_size=(3, 3), activation=\"relu\", padding=\"Same\"),\n",
    "    L.MaxPooling2D(pool_size=(2, 2), strides=(2, 2)),\n",
    "    L.Dropout(0.25),\n",
    "\n",
    "    L.Flatten(),\n",
    "    L.Dense(256, activation=\"relu\"),\n",
    "    L.Dense(256, activation=\"relu\"),\n",
    "    L.Dropout(0.5),\n",
    "    \n",
    "    L.Dense(10, activation=\"softmax\")\n",
    "])"
   ]
  },
  {
   "cell_type": "code",
   "execution_count": 25,
   "metadata": {},
   "outputs": [
    {
     "name": "stdout",
     "output_type": "stream",
     "text": [
      "Model: \"sequential_3\"\n",
      "_________________________________________________________________\n",
      " Layer (type)                Output Shape              Param #   \n",
      "=================================================================\n",
      " conv2d_10 (Conv2D)          (None, 26, 26, 32)        320       \n",
      "                                                                 \n",
      " conv2d_11 (Conv2D)          (None, 24, 24, 32)        9248      \n",
      "                                                                 \n",
      " max_pooling2d_3 (MaxPooling  (None, 12, 12, 32)       0         \n",
      " 2D)                                                             \n",
      "                                                                 \n",
      " conv2d_12 (Conv2D)          (None, 12, 12, 64)        18496     \n",
      "                                                                 \n",
      " conv2d_13 (Conv2D)          (None, 12, 12, 64)        36928     \n",
      "                                                                 \n",
      " max_pooling2d_4 (MaxPooling  (None, 6, 6, 64)         0         \n",
      " 2D)                                                             \n",
      "                                                                 \n",
      " dropout_3 (Dropout)         (None, 6, 6, 64)          0         \n",
      "                                                                 \n",
      " conv2d_14 (Conv2D)          (None, 6, 6, 64)          36928     \n",
      "                                                                 \n",
      " conv2d_15 (Conv2D)          (None, 6, 6, 64)          36928     \n",
      "                                                                 \n",
      " max_pooling2d_5 (MaxPooling  (None, 3, 3, 64)         0         \n",
      " 2D)                                                             \n",
      "                                                                 \n",
      " dropout_4 (Dropout)         (None, 3, 3, 64)          0         \n",
      "                                                                 \n",
      " flatten_1 (Flatten)         (None, 576)               0         \n",
      "                                                                 \n",
      " dense_3 (Dense)             (None, 256)               147712    \n",
      "                                                                 \n",
      " dense_4 (Dense)             (None, 256)               65792     \n",
      "                                                                 \n",
      " dropout_5 (Dropout)         (None, 256)               0         \n",
      "                                                                 \n",
      " dense_5 (Dense)             (None, 10)                2570      \n",
      "                                                                 \n",
      "=================================================================\n",
      "Total params: 354,922\n",
      "Trainable params: 354,922\n",
      "Non-trainable params: 0\n",
      "_________________________________________________________________\n"
     ]
    }
   ],
   "source": [
    "model.summary()"
   ]
  },
  {
   "cell_type": "code",
   "execution_count": 26,
   "metadata": {},
   "outputs": [],
   "source": [
    "class MyCallback(tf.keras.callbacks.Callback):\n",
    "    def on_epoch_end(self, epoch, logs={}):\n",
    "        if logs.get(\"accuracy\") > 0.999:\n",
    "            print(\"Reached 99.9% accuracy - Stopped training!\")\n",
    "            self.model.stop_training = True\n",
    "\n",
    "callback = MyCallback()"
   ]
  },
  {
   "cell_type": "code",
   "execution_count": 27,
   "metadata": {},
   "outputs": [],
   "source": [
    "Optimizer = tf.keras.optimizers.Adam(learning_rate=0.0005, name=\"Adam\")\n",
    "model.compile(optimizer=Optimizer, loss=\"categorical_crossentropy\", metrics=[\"accuracy\"])"
   ]
  },
  {
   "cell_type": "code",
   "execution_count": 28,
   "metadata": {},
   "outputs": [
    {
     "name": "stdout",
     "output_type": "stream",
     "text": [
      "Epoch 1/50\n",
      "420/420 [==============================] - 66s 154ms/step - loss: 0.7068 - accuracy: 0.7867\n",
      "Epoch 2/50\n",
      "420/420 [==============================] - 63s 150ms/step - loss: 0.1127 - accuracy: 0.9668\n",
      "Epoch 3/50\n",
      "420/420 [==============================] - 67s 160ms/step - loss: 0.0780 - accuracy: 0.9777\n",
      "Epoch 4/50\n",
      "420/420 [==============================] - 67s 160ms/step - loss: 0.0606 - accuracy: 0.9817\n",
      "Epoch 5/50\n",
      "420/420 [==============================] - 68s 162ms/step - loss: 0.0523 - accuracy: 0.9846\n",
      "Epoch 6/50\n",
      "420/420 [==============================] - 71s 169ms/step - loss: 0.0448 - accuracy: 0.9862\n",
      "Epoch 7/50\n",
      "420/420 [==============================] - 69s 163ms/step - loss: 0.0412 - accuracy: 0.9880\n",
      "Epoch 8/50\n",
      "420/420 [==============================] - 69s 165ms/step - loss: 0.0360 - accuracy: 0.9891\n",
      "Epoch 9/50\n",
      "420/420 [==============================] - 67s 158ms/step - loss: 0.0350 - accuracy: 0.9900\n",
      "Epoch 10/50\n",
      "420/420 [==============================] - 68s 163ms/step - loss: 0.0293 - accuracy: 0.9916\n",
      "Epoch 11/50\n",
      "420/420 [==============================] - 64s 153ms/step - loss: 0.0271 - accuracy: 0.9918\n",
      "Epoch 12/50\n",
      "420/420 [==============================] - 66s 158ms/step - loss: 0.0269 - accuracy: 0.9923\n",
      "Epoch 13/50\n",
      "420/420 [==============================] - 69s 165ms/step - loss: 0.0258 - accuracy: 0.9925\n",
      "Epoch 14/50\n",
      "420/420 [==============================] - 67s 160ms/step - loss: 0.0232 - accuracy: 0.9929\n",
      "Epoch 15/50\n",
      "420/420 [==============================] - 66s 157ms/step - loss: 0.0216 - accuracy: 0.9934\n",
      "Epoch 16/50\n",
      "420/420 [==============================] - 65s 154ms/step - loss: 0.0232 - accuracy: 0.9931\n",
      "Epoch 17/50\n",
      "420/420 [==============================] - 68s 163ms/step - loss: 0.0205 - accuracy: 0.9939\n",
      "Epoch 18/50\n",
      "420/420 [==============================] - 67s 160ms/step - loss: 0.0191 - accuracy: 0.9946\n",
      "Epoch 19/50\n",
      "420/420 [==============================] - 69s 165ms/step - loss: 0.0167 - accuracy: 0.9946\n",
      "Epoch 20/50\n",
      "420/420 [==============================] - 67s 159ms/step - loss: 0.0173 - accuracy: 0.9947\n",
      "Epoch 21/50\n",
      "420/420 [==============================] - 68s 161ms/step - loss: 0.0172 - accuracy: 0.9950\n",
      "Epoch 22/50\n",
      "420/420 [==============================] - 67s 159ms/step - loss: 0.0167 - accuracy: 0.9952\n",
      "Epoch 23/50\n",
      "420/420 [==============================] - 73s 174ms/step - loss: 0.0144 - accuracy: 0.9959\n",
      "Epoch 24/50\n",
      "420/420 [==============================] - 63s 151ms/step - loss: 0.0115 - accuracy: 0.9964\n",
      "Epoch 25/50\n",
      "420/420 [==============================] - 61s 146ms/step - loss: 0.0158 - accuracy: 0.9956\n",
      "Epoch 26/50\n",
      "420/420 [==============================] - 60s 143ms/step - loss: 0.0162 - accuracy: 0.9950\n",
      "Epoch 27/50\n",
      "420/420 [==============================] - 60s 143ms/step - loss: 0.0154 - accuracy: 0.9957\n",
      "Epoch 28/50\n",
      "420/420 [==============================] - 62s 149ms/step - loss: 0.0125 - accuracy: 0.9964\n",
      "Epoch 29/50\n",
      "420/420 [==============================] - 63s 151ms/step - loss: 0.0107 - accuracy: 0.9966\n",
      "Epoch 30/50\n",
      "420/420 [==============================] - 64s 152ms/step - loss: 0.0142 - accuracy: 0.9960\n",
      "Epoch 31/50\n",
      "420/420 [==============================] - 63s 151ms/step - loss: 0.0127 - accuracy: 0.9964\n",
      "Epoch 32/50\n",
      "420/420 [==============================] - 63s 150ms/step - loss: 0.0129 - accuracy: 0.9963\n",
      "Epoch 33/50\n",
      "420/420 [==============================] - 64s 151ms/step - loss: 0.0101 - accuracy: 0.9972\n",
      "Epoch 34/50\n",
      "420/420 [==============================] - 64s 153ms/step - loss: 0.0082 - accuracy: 0.9976\n",
      "Epoch 35/50\n",
      "420/420 [==============================] - 64s 152ms/step - loss: 0.0106 - accuracy: 0.9969\n",
      "Epoch 36/50\n",
      "420/420 [==============================] - 64s 153ms/step - loss: 0.0116 - accuracy: 0.9968\n",
      "Epoch 37/50\n",
      "420/420 [==============================] - 66s 157ms/step - loss: 0.0088 - accuracy: 0.9973\n",
      "Epoch 38/50\n",
      "420/420 [==============================] - 61s 146ms/step - loss: 0.0117 - accuracy: 0.9972\n",
      "Epoch 39/50\n",
      "420/420 [==============================] - 60s 142ms/step - loss: 0.0101 - accuracy: 0.9972\n",
      "Epoch 40/50\n",
      "420/420 [==============================] - 60s 143ms/step - loss: 0.0104 - accuracy: 0.9970\n",
      "Epoch 41/50\n",
      "420/420 [==============================] - 60s 143ms/step - loss: 0.0090 - accuracy: 0.9975\n",
      "Epoch 42/50\n",
      "420/420 [==============================] - 62s 147ms/step - loss: 0.0088 - accuracy: 0.9974\n",
      "Epoch 43/50\n",
      "420/420 [==============================] - 61s 146ms/step - loss: 0.0098 - accuracy: 0.9971\n",
      "Epoch 44/50\n",
      "420/420 [==============================] - 60s 143ms/step - loss: 0.0080 - accuracy: 0.9975\n",
      "Epoch 45/50\n",
      "420/420 [==============================] - 60s 142ms/step - loss: 0.0090 - accuracy: 0.9975\n",
      "Epoch 46/50\n",
      "420/420 [==============================] - 59s 142ms/step - loss: 0.0098 - accuracy: 0.9968\n",
      "Epoch 47/50\n",
      "420/420 [==============================] - 61s 146ms/step - loss: 0.0090 - accuracy: 0.9976\n",
      "Epoch 48/50\n",
      "420/420 [==============================] - 61s 146ms/step - loss: 0.0087 - accuracy: 0.9973\n",
      "Epoch 49/50\n",
      "420/420 [==============================] - 60s 142ms/step - loss: 0.0095 - accuracy: 0.9977\n",
      "Epoch 50/50\n",
      "420/420 [==============================] - 60s 142ms/step - loss: 0.0074 - accuracy: 0.9978\n"
     ]
    },
    {
     "data": {
      "text/plain": [
       "<keras.callbacks.History at 0x21a7f2430d0>"
      ]
     },
     "execution_count": 28,
     "metadata": {},
     "output_type": "execute_result"
    }
   ],
   "source": [
    "model.fit(x_train, y_train_ohe, batch_size=100, epochs=50, callbacks=[callback])"
   ]
  },
  {
   "attachments": {},
   "cell_type": "markdown",
   "metadata": {},
   "source": [
    "## Get the predicted numbers"
   ]
  },
  {
   "cell_type": "code",
   "execution_count": 36,
   "metadata": {},
   "outputs": [
    {
     "name": "stdout",
     "output_type": "stream",
     "text": [
      "875/875 [==============================] - 9s 11ms/step\n"
     ]
    }
   ],
   "source": [
    "results = model.predict(x_test)"
   ]
  },
  {
   "cell_type": "code",
   "execution_count": 34,
   "metadata": {},
   "outputs": [
    {
     "data": {
      "text/plain": [
       "array([2, 0, 9, 0, 3], dtype=int64)"
      ]
     },
     "execution_count": 34,
     "metadata": {},
     "output_type": "execute_result"
    }
   ],
   "source": [
    "numbers = np.argmax(results, axis=1)\n",
    "numbers[:5]"
   ]
  },
  {
   "attachments": {},
   "cell_type": "markdown",
   "metadata": {},
   "source": [
    "## Check the performance of the model"
   ]
  },
  {
   "cell_type": "code",
   "execution_count": 37,
   "metadata": {},
   "outputs": [
    {
     "data": {
      "image/png": "[encoded data removed]",
      "text/plain": [
       "<Figure size 640x480 with 10 Axes>"
      ]
     },
     "metadata": {},
     "output_type": "display_data"
    }
   ],
   "source": [
    "show_test_images(0, numbers)"
   ]
  },
  {
   "attachments": {},
   "cell_type": "markdown",
   "metadata": {},
   "source": [
    "## Submission"
   ]
  },
  {
   "cell_type": "code",
   "execution_count": 40,
   "metadata": {},
   "outputs": [],
   "source": [
    "submission = pd.concat([pd.Series(range(1, len(sample) + 1)), pd.Series(numbers, name=\"Label\")], axis=1)\n",
    "submission.to_csv(\"submission.csv\", index=False)"
   ]
  }
 ],
 "metadata": {
  "kernelspec": {
   "display_name": "Python 3",
   "language": "python",
   "name": "python3"
  },
  "language_info": {
   "codemirror_mode": {
    "name": "ipython",
    "version": 3
   },
   "file_extension": ".py",
   "mimetype": "text/x-python",
   "name": "python",
   "nbconvert_exporter": "python",
   "pygments_lexer": "ipython3",
   "version": "3.10.8"
  },
  "orig_nbformat": 4,
  "vscode": {
   "interpreter": {
    "hash": "94f4693ad758032fd28f9ecc08daa4776caeeaf7af79843cea3e1525fe817927"
   }
  }
 },
 "nbformat": 4,
 "nbformat_minor": 2
}
